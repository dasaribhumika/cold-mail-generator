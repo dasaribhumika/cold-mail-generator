{
 "cells": [
  {
   "cell_type": "code",
   "execution_count": 1,
   "id": "7c83bd9d-c411-4602-b7b9-e272b4b9b15d",
   "metadata": {},
   "outputs": [],
   "source": [
    "from langchain_groq import ChatGroq"
   ]
  },
  {
   "cell_type": "code",
   "execution_count": 2,
   "id": "217eb364-2a7e-41e0-b0ab-eab594201713",
   "metadata": {},
   "outputs": [
    {
     "name": "stdout",
     "output_type": "stream",
     "text": [
      "The first person to land on the moon was Neil Armstrong. He stepped onto the lunar surface on July 20, 1969, as part of the Apollo 11 mission.\n"
     ]
    }
   ],
   "source": [
    "llm = ChatGroq(\n",
    "    temperature=0, \n",
    "    groq_api_key='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', \n",
    "    model_name=\"llama-3.1-70b-versatile\"\n",
    ")\n",
    "response = llm.invoke(\"The first person to land on moon was ...\")\n",
    "print(response.content)"
   ]
  },
  {
   "cell_type": "code",
   "execution_count": 26,
   "id": "d4645b49-3986-4c65-ad2a-c32a08ac019e",
   "metadata": {},
   "outputs": [
    {
     "name": "stdout",
     "output_type": "stream",
     "text": [
      "Job Application for Software Engineer - New Grad at ZipRecruiterBack to jobsSoftware Engineer - New GradSanta Monica, CAApplyWe offer a hybrid work environment. Most US-based positions can also be performed remotely (any exceptions will be noted in the Minimum Qualifications below.)Our Mission: \n",
      "To actively connect people to their next great opportunity. \n",
      "Who We Are: \n",
      "ZipRecruiter is the fastest-growing online employment marketplace for both desktop and mobile traffic. Powered by AI-driven smart matching technology, we’re building connections for millions of job seekers and businesses of all sizes through innovative mobile, web, and email services, as well as through partnerships with the best job boards on the web. As the #1 rated job search app on iOS & Android for the past 6 years, our customers are our priority. \n",
      "About the Team:\n",
      "We’re looking for software engineers who are passionate about building an intuitive experience for our marketplace serving millions of jobseekers and tens of thousands of customers. You will have a unique opportunity to become more deeply specialized in one of the following disciplines: Big Data, Full Stack, Machine Learning, Mobile - iOS, Mobile - Android and to work at scale, building fast, scalable, and effective applications that help connect people to their next job. Whether it’s supporting our job seekers, employers, or internal developers, you will have a real impact on and be able to shape the ZipRecruiter product.\n",
      "About the Job:\n",
      "\n",
      "Take part in the full life cycle of user-facing applications at scale, from design to implementation and testing to production\n",
      "Develop a strong understanding of the business, industry, codebase, and/or systems\n",
      "Write, test, instrument, and deploy high quality code with good test coverage, using modern abstractions and frameworks to our Kubernetes environment\n",
      "Help drive the innovation and evolution of ZipRecruiter\n",
      "\n",
      "Minimum Qualifications:\n",
      "\n",
      "Currently enrolled in a full-time, Computer Science degree-seeking program or related technical field with an expected graduation date of Winter 2024 or Fall 2025*\n",
      "\n",
      "*OR a recent graduate with a graduation date from Spring 2023 to Spring 2024\n",
      "\n",
      "\n",
      "Demonstrated foundation in software engineering through previous internship experience or equivalent practical experience\n",
      "Fluency with at least 1 general purpose programming language (e.g., Python, Java, Go, C++, Javascript)\n",
      "An interest in becoming more specialized in at least one of the following disciplines: Big Data, Full Stack, Machine Learning, Mobile - iOS, Mobile - Android\n",
      "\n",
      "Preferred Qualifications:\n",
      "\n",
      "Fluency in multiple programming languages or ability to pick up new languages quickly\n",
      "Experience working with both non-relational and relational database systems\n",
      "Exposure to developing client side interactions using frameworks like React along with Vanilla Javascript, CSS, and HTML\n",
      "Analytical and problem-solving skills along with a self-starter mentality\n",
      "Passion for and experience with creating an intuitive, user-friendly experience\n",
      "\n",
      "As part of our team you'll enjoy:\n",
      "\n",
      "Competitive salary\n",
      "Exceptional benefits package\n",
      "Flexible Vacation & Paid Time Off\n",
      "Employer-matched 401(k) plan \n",
      "\n",
      "#LI-Remote  \n",
      "The US base salary range for this full-time position is $130,000-$150,000. Our salary ranges are determined by role, level, and location, and the range displayed on each job posting reflects the minimum and maximum target for new hire salaries for the position across all US locations. Within the range, individual pay is determined by work location, role-related knowledge and skills, depth of experience, relevant education or training, and additional role-related considerations.\n",
      "Depending on the position offered, equity, bonuses, commission, or other forms of compensation may also be provided as part of a total compensation package, in addition to a full range of medical, financial, and other benefits.ZipRecruiter is proud to be an equal opportunity employer and provides equal employment opportunities (EEO) to all employees and applicants without regard to race, color, religion, sex, national origin, age, disability, veteran status, sexual orientation, gender identity or genetics.\n",
      "Privacy Notice: For information about ZipRecruiter's collection and processing of job applicant personal data for this job, please see our Privacy Notice at: https://www.ziprecruiter.com/careers/job-applicant-privacy-noticeApply for this job*indicates a required fieldFirst Name*Last Name*Email*Phone*Location (City)*Locate meResume/CV*AttachAttachDropboxGoogle DriveEnter manuallyEnter manuallyAccepted file types: pdf, doc, docx, txt, rtfEducationSchool*Select...Degree*Select...Add anotherWhat archetype are you most closely aligned with?*Select...What school are you currently attending / did you graduate from?*When is your anticipated graduation date?*Select...Are you legally authorized to work in the United States for our Company?*Select...Will you now, or in the future, require sponsorship (i.e. H-1B visa, etc.) to legally work in the U.S.?*Select...How did you hear about this opportunity?Select...Voluntary Self-Identification\n",
      "For government reporting purposes, we ask candidates to respond to the below self-identification survey.\n",
      "Completion of the form is entirely voluntary. Whatever your decision, it will not be considered in the hiring\n",
      "process or thereafter. Any information that you do provide will be recorded and maintained in a\n",
      "confidential file.\n",
      "As set forth in ZipRecruiter’s Equal Employment Opportunity policy,\n",
      "we do not discriminate on the basis of any protected group status under any applicable law.\n",
      "GenderSelect...Are you Hispanic/Latino?Select...Race & Ethnicity Definitions\n",
      "  If you believe you belong to any of the categories of protected veterans listed below, please indicate by making the appropriate selection.\n",
      "  As a government contractor subject to the Vietnam Era Veterans Readjustment Assistance Act (VEVRAA), we request this information in order to measure\n",
      "  the effectiveness of the outreach and positive recruitment efforts we undertake pursuant to VEVRAA. Classification of protected categories\n",
      "  is as follows:\n",
      "\n",
      "A \"disabled veteran\" is one of the following: a veteran of the U.S. military, ground, naval or air service who is entitled to compensation (or who but for the receipt of military retired pay would be entitled to compensation) under laws administered by the Secretary of Veterans Affairs; or a person who was discharged or released from active duty because of a service-connected disability.\n",
      "A \"recently separated veteran\" means any veteran during the three-year period beginning on the date of such veteran's discharge or release from active duty in the U.S. military, ground, naval, or air service.\n",
      "An \"active duty wartime or campaign badge veteran\" means a veteran who served on active duty in the U.S. military, ground, naval or air service during a war, or in a campaign or expedition for which a campaign badge has been authorized under the laws administered by the Department of Defense.\n",
      "An \"Armed forces service medal veteran\" means a veteran who, while serving on active duty in the U.S. military, ground, naval or air service, participated in a United States military operation for which an Armed Forces service medal was awarded pursuant to Executive Order 12985.\n",
      "Veteran StatusSelect...Voluntary Self-Identification of Disability\n",
      "\n",
      "\n",
      "Form CC-305\n",
      "Page 1 of 1\n",
      "\n",
      "\n",
      "OMB Control Number 1250-0005\n",
      "Expires 04/30/2026\n",
      "\n",
      "\n",
      "\n",
      "Why are you being asked to complete this form?\n",
      "We are a federal contractor or subcontractor. The law requires us to provide equal employment opportunity to qualified people with disabilities. We have a goal of having at least 7% of our workers as people with disabilities. The law says we must measure our progress towards this goal. To do this, we must ask applicants and employees if they have a disability or have ever had one. People can become disabled, so we need to ask this question at least every five years.\n",
      "Completing this form is voluntary, and we hope that you will choose to do so. Your answer is confidential. No one who makes hiring decisions will see it. Your decision to complete the form and your answer will not harm you in any way. If you want to learn more about the law or this form, visit the U.S. Department of Labor’s Office of Federal Contract Compliance Programs (OFCCP) website at www.dol.gov/ofccp.\n",
      "How do you know if you have a disability?\n",
      "A disability is a condition that substantially limits one or more of your “major life activities.” If you have or have ever had such a condition, you are a person with a disability. Disabilities include, but are not limited to:\n",
      "\n",
      "Alcohol or other substance use disorder (not currently using drugs illegally)\n",
      "Autoimmune disorder, for example, lupus, fibromyalgia, rheumatoid arthritis, HIV/AIDS\n",
      "Blind or low vision\n",
      "Cancer (past or present)\n",
      "Cardiovascular or heart disease\n",
      "Celiac disease\n",
      "Cerebral palsy\n",
      "Deaf or serious difficulty hearing\n",
      "Diabetes\n",
      "Disfigurement, for example, disfigurement caused by burns, wounds, accidents, or congenital disorders\n",
      "Epilepsy or other seizure disorder\n",
      "Gastrointestinal disorders, for example, Crohn's Disease, irritable bowel syndrome\n",
      "Intellectual or developmental disability\n",
      "Mental health conditions, for example, depression, bipolar disorder, anxiety disorder, schizophrenia, PTSD\n",
      "Missing limbs or partially missing limbs\n",
      "Mobility impairment, benefiting from the use of a wheelchair, scooter, walker, leg brace(s) and/or other supports\n",
      "Nervous system condition, for example, migraine headaches, Parkinson’s disease, multiple sclerosis (MS)\n",
      "Neurodivergence, for example, attention-deficit/hyperactivity disorder (ADHD), autism spectrum disorder, dyslexia, dyspraxia, other learning disabilities\n",
      "Partial or complete paralysis (any cause)\n",
      "Pulmonary or respiratory conditions, for example, tuberculosis, asthma, emphysema\n",
      "Short stature (dwarfism)\n",
      "Traumatic brain injury\n",
      "\n",
      "Disability StatusSelect...PUBLIC BURDEN STATEMENT: According to the Paperwork Reduction Act of 1995 no persons are required to respond to a collection of information unless such collection displays a valid OMB control number. This survey should take about 5 minutes to complete.\n",
      "Submit applicationPowered byGreenhouseRead our Privacy Policy\n"
     ]
    }
   ],
   "source": [
    "from langchain_community.document_loaders import WebBaseLoader\n",
    "\n",
    "loader = WebBaseLoader(\"https://job-boards.greenhouse.io/ziprecruiter/jobs/6165341?gh_src=89c6ee071us\")\n",
    "page_data = loader.load().pop().page_content\n",
    "print(page_data)"
   ]
  },
  {
   "cell_type": "code",
   "execution_count": 27,
   "id": "1ce71382-ad96-47c5-9fbc-c1b9925f1ee4",
   "metadata": {},
   "outputs": [
    {
     "name": "stdout",
     "output_type": "stream",
     "text": [
      "```json\n",
      "{\n",
      "  \"role\": \"Software Engineer - New Grad\",\n",
      "  \"experience\": \"New Grad or recent graduate with a graduation date from Spring 2023 to Spring 2024\",\n",
      "  \"skills\": [\n",
      "    \"Fluency with at least 1 general purpose programming language (e.g., Python, Java, Go, C++, Javascript)\",\n",
      "    \"Interest in becoming more specialized in at least one of the following disciplines: Big Data, Full Stack, Machine Learning, Mobile - iOS, Mobile - Android\",\n",
      "    \"Fluency in multiple programming languages or ability to pick up new languages quickly\",\n",
      "    \"Experience working with both non-relational and relational database systems\",\n",
      "    \"Exposure to developing client side interactions using frameworks like React along with Vanilla Javascript, CSS, and HTML\",\n",
      "    \"Analytical and problem-solving skills along with a self-starter mentality\",\n",
      "    \"Passion for and experience with creating an intuitive, user-friendly experience\"\n",
      "  ],\n",
      "  \"description\": \"Take part in the full life cycle of user-facing applications at scale, from design to implementation and testing to production. Develop a strong understanding of the business, industry, codebase, and/or systems. Write, test, instrument, and deploy high quality code with good test coverage, using modern abstractions and frameworks to our Kubernetes environment. Help drive the innovation and evolution of ZipRecruiter.\"\n",
      "}\n",
      "```\n"
     ]
    }
   ],
   "source": [
    "from langchain_core.prompts import PromptTemplate\n",
    "\n",
    "prompt_extract = PromptTemplate.from_template(\n",
    "        \"\"\"\n",
    "        ### SCRAPED TEXT FROM WEBSITE:\n",
    "        {page_data}\n",
    "        ### INSTRUCTION:\n",
    "        The scraped text is from the career's page of a website.\n",
    "        Your job is to extract the job postings and return them in JSON format containing the \n",
    "        following keys: `role`, `experience`, `skills` and `description`.\n",
    "        Only return the valid JSON.\n",
    "        ### VALID JSON (NO PREAMBLE):    \n",
    "        \"\"\"\n",
    ")\n",
    "\n",
    "chain_extract = prompt_extract | llm \n",
    "res = chain_extract.invoke(input={'page_data':page_data})\n",
    "type(res.content)\n",
    "print(res.content)"
   ]
  },
  {
   "cell_type": "code",
   "execution_count": 28,
   "id": "4fda5332-7279-4b28-8754-fc07d559a1a7",
   "metadata": {},
   "outputs": [
    {
     "data": {
      "text/plain": [
       "{'role': 'Software Engineer - New Grad',\n",
       " 'experience': 'New Grad or recent graduate with a graduation date from Spring 2023 to Spring 2024',\n",
       " 'skills': ['Fluency with at least 1 general purpose programming language (e.g., Python, Java, Go, C++, Javascript)',\n",
       "  'Interest in becoming more specialized in at least one of the following disciplines: Big Data, Full Stack, Machine Learning, Mobile - iOS, Mobile - Android',\n",
       "  'Fluency in multiple programming languages or ability to pick up new languages quickly',\n",
       "  'Experience working with both non-relational and relational database systems',\n",
       "  'Exposure to developing client side interactions using frameworks like React along with Vanilla Javascript, CSS, and HTML',\n",
       "  'Analytical and problem-solving skills along with a self-starter mentality',\n",
       "  'Passion for and experience with creating an intuitive, user-friendly experience'],\n",
       " 'description': 'Take part in the full life cycle of user-facing applications at scale, from design to implementation and testing to production. Develop a strong understanding of the business, industry, codebase, and/or systems. Write, test, instrument, and deploy high quality code with good test coverage, using modern abstractions and frameworks to our Kubernetes environment. Help drive the innovation and evolution of ZipRecruiter.'}"
      ]
     },
     "execution_count": 28,
     "metadata": {},
     "output_type": "execute_result"
    }
   ],
   "source": [
    "from langchain_core.output_parsers import JsonOutputParser\n",
    "\n",
    "json_parser = JsonOutputParser()\n",
    "json_res = json_parser.parse(res.content)\n",
    "json_res"
   ]
  },
  {
   "cell_type": "code",
   "execution_count": 32,
   "id": "51b82c4f-78f4-4d4b-9ad4-cda0f1eef6c4",
   "metadata": {},
   "outputs": [
    {
     "data": {
      "text/plain": [
       "dict"
      ]
     },
     "execution_count": 32,
     "metadata": {},
     "output_type": "execute_result"
    }
   ],
   "source": [
    "type(json_res)"
   ]
  },
  {
   "cell_type": "code",
   "execution_count": 33,
   "id": "f593d355-dccf-40c2-b083-bbaf7d87bfb3",
   "metadata": {},
   "outputs": [
    {
     "data": {
      "text/html": [
       "<div>\n",
       "<style scoped>\n",
       "    .dataframe tbody tr th:only-of-type {\n",
       "        vertical-align: middle;\n",
       "    }\n",
       "\n",
       "    .dataframe tbody tr th {\n",
       "        vertical-align: top;\n",
       "    }\n",
       "\n",
       "    .dataframe thead th {\n",
       "        text-align: right;\n",
       "    }\n",
       "</style>\n",
       "<table border=\"1\" class=\"dataframe\">\n",
       "  <thead>\n",
       "    <tr style=\"text-align: right;\">\n",
       "      <th></th>\n",
       "      <th>Techstack</th>\n",
       "      <th>Links</th>\n",
       "    </tr>\n",
       "  </thead>\n",
       "  <tbody>\n",
       "    <tr>\n",
       "      <th>0</th>\n",
       "      <td>React</td>\n",
       "      <td>https://linktr.ee/bhumikadasari</td>\n",
       "    </tr>\n",
       "    <tr>\n",
       "      <th>1</th>\n",
       "      <td>Angular, Express, Node.js, MongoDB</td>\n",
       "      <td>https://bookthrift.surge.sh/#!/</td>\n",
       "    </tr>\n",
       "    <tr>\n",
       "      <th>2</th>\n",
       "      <td>Flask, SQLAlchemy, Jinja2, Pillow, HTML/CSS/Bo...</td>\n",
       "      <td>https://github.com/dasaribhumika/SSN-Blog</td>\n",
       "    </tr>\n",
       "    <tr>\n",
       "      <th>3</th>\n",
       "      <td>Streamlit, Pandas, Scikit-learn, Matplotlib, S...</td>\n",
       "      <td>https://github.com/dasaribhumika/e-learning-pl...</td>\n",
       "    </tr>\n",
       "    <tr>\n",
       "      <th>4</th>\n",
       "      <td>Flask, Javascript, Postman</td>\n",
       "      <td>https://github.com/dasaribhumika/House-Price-P...</td>\n",
       "    </tr>\n",
       "    <tr>\n",
       "      <th>5</th>\n",
       "      <td>React, Javascript</td>\n",
       "      <td>https://bhumika-dasari-portfolio.netlify.app/</td>\n",
       "    </tr>\n",
       "    <tr>\n",
       "      <th>6</th>\n",
       "      <td>Streamit, Mistral, LLM, GenAI, NLP</td>\n",
       "      <td>https://github.com/dasaribhumika/sage-health-c...</td>\n",
       "    </tr>\n",
       "    <tr>\n",
       "      <th>7</th>\n",
       "      <td>Python, Machine Learning, LSTM, CNN, RNN, NLTK...</td>\n",
       "      <td>https://github.com/dasaribhumika/NLP_Financial...</td>\n",
       "    </tr>\n",
       "    <tr>\n",
       "      <th>8</th>\n",
       "      <td>PowerBI</td>\n",
       "      <td>https://github.com/dasaribhumika/Zomato-Analys...</td>\n",
       "    </tr>\n",
       "  </tbody>\n",
       "</table>\n",
       "</div>"
      ],
      "text/plain": [
       "                                           Techstack  \\\n",
       "0                                              React   \n",
       "1                 Angular, Express, Node.js, MongoDB   \n",
       "2  Flask, SQLAlchemy, Jinja2, Pillow, HTML/CSS/Bo...   \n",
       "3  Streamlit, Pandas, Scikit-learn, Matplotlib, S...   \n",
       "4                         Flask, Javascript, Postman   \n",
       "5                                  React, Javascript   \n",
       "6                 Streamit, Mistral, LLM, GenAI, NLP   \n",
       "7  Python, Machine Learning, LSTM, CNN, RNN, NLTK...   \n",
       "8                                            PowerBI   \n",
       "\n",
       "                                               Links  \n",
       "0                    https://linktr.ee/bhumikadasari  \n",
       "1                    https://bookthrift.surge.sh/#!/  \n",
       "2          https://github.com/dasaribhumika/SSN-Blog  \n",
       "3  https://github.com/dasaribhumika/e-learning-pl...  \n",
       "4  https://github.com/dasaribhumika/House-Price-P...  \n",
       "5      https://bhumika-dasari-portfolio.netlify.app/  \n",
       "6  https://github.com/dasaribhumika/sage-health-c...  \n",
       "7  https://github.com/dasaribhumika/NLP_Financial...  \n",
       "8  https://github.com/dasaribhumika/Zomato-Analys...  "
      ]
     },
     "execution_count": 33,
     "metadata": {},
     "output_type": "execute_result"
    }
   ],
   "source": [
    "import pandas as pd\n",
    "\n",
    "df = pd.read_csv(\"my_portfolio.csv\")\n",
    "df"
   ]
  },
  {
   "cell_type": "code",
   "execution_count": 36,
   "id": "9e547d52-1123-4d3f-88a9-3b4470062b1e",
   "metadata": {},
   "outputs": [],
   "source": [
    "import uuid\n",
    "import chromadb\n",
    "\n",
    "client = chromadb.PersistentClient('vectorstore')\n",
    "collection = client.get_or_create_collection(name=\"portfolio\")\n",
    "\n",
    "if not collection.count():\n",
    "    for _, row in df.iterrows():\n",
    "        collection.add(documents=row[\"Techstack\"],\n",
    "                       metadatas={\"links\": row[\"Links\"]},\n",
    "                       ids=[str(uuid.uuid4())])"
   ]
  },
  {
   "cell_type": "code",
   "execution_count": 45,
   "id": "55af6943-24c6-494b-82c3-6286882edd8d",
   "metadata": {},
   "outputs": [
    {
     "name": "stdout",
     "output_type": "stream",
     "text": [
      "Role: Software Engineer - New Grad\n",
      "Experience: New Grad or recent graduate with a graduation date from Spring 2023 to Spring 2024\n",
      "Skills: ['Fluency with at least 1 general purpose programming language (e.g., Python, Java, Go, C++, Javascript)', 'Interest in becoming more specialized in at least one of the following disciplines: Big Data, Full Stack, Machine Learning, Mobile - iOS, Mobile - Android', 'Fluency in multiple programming languages or ability to pick up new languages quickly', 'Experience working with both non-relational and relational database systems', 'Exposure to developing client side interactions using frameworks like React along with Vanilla Javascript, CSS, and HTML', 'Analytical and problem-solving skills along with a self-starter mentality', 'Passion for and experience with creating an intuitive, user-friendly experience']\n",
      "Description: Take part in the full life cycle of user-facing applications at scale, from design to implementation and testing to production. Develop a strong understanding of the business, industry, codebase, and/or systems. Write, test, instrument, and deploy high quality code with good test coverage, using modern abstractions and frameworks to our Kubernetes environment. Help drive the innovation and evolution of ZipRecruiter.\n",
      "Links for skill 'Fluency with at least 1 general purpose programming language (e.g., Python, Java, Go, C++, Javascript)': [[{'links': 'https://github.com/dasaribhumika/NLP_Financial_News_Sentiment_Analysis'}, {'links': 'https://github.com/dasaribhumika/House-Price-Predictor'}]]\n",
      "Links for skill 'Interest in becoming more specialized in at least one of the following disciplines: Big Data, Full Stack, Machine Learning, Mobile - iOS, Mobile - Android': [[{'links': 'https://github.com/dasaribhumika/NLP_Financial_News_Sentiment_Analysis'}, {'links': 'https://github.com/dasaribhumika/e-learning-platform-recommendation-using-EEG'}]]\n",
      "Links for skill 'Fluency in multiple programming languages or ability to pick up new languages quickly': [[{'links': 'https://github.com/dasaribhumika/NLP_Financial_News_Sentiment_Analysis'}, {'links': 'https://github.com/dasaribhumika/sage-health-chatbot'}]]\n",
      "Links for skill 'Experience working with both non-relational and relational database systems': [[{'links': 'https://bookthrift.surge.sh/#!/'}, {'links': 'https://github.com/dasaribhumika/NLP_Financial_News_Sentiment_Analysis'}]]\n",
      "Links for skill 'Exposure to developing client side interactions using frameworks like React along with Vanilla Javascript, CSS, and HTML': [[{'links': 'https://bhumika-dasari-portfolio.netlify.app/'}, {'links': 'https://linktr.ee/bhumikadasari'}]]\n",
      "Links for skill 'Analytical and problem-solving skills along with a self-starter mentality': [[{'links': 'https://github.com/dasaribhumika/NLP_Financial_News_Sentiment_Analysis'}, {'links': 'https://github.com/dasaribhumika/e-learning-platform-recommendation-using-EEG'}]]\n",
      "Links for skill 'Passion for and experience with creating an intuitive, user-friendly experience': [[{'links': 'https://github.com/dasaribhumika/Zomato-Analysis-Power-BI'}, {'links': 'https://linktr.ee/bhumikadasari'}]]\n"
     ]
    }
   ],
   "source": [
    "# Access the job details\n",
    "role = json_res.get('role')\n",
    "experience = json_res.get('experience')\n",
    "skills = json_res.get('skills')\n",
    "description = json_res.get('description')\n",
    "\n",
    "# Print the extracted information\n",
    "print(f\"Role: {role}\")\n",
    "print(f\"Experience: {experience}\")\n",
    "print(f\"Skills: {skills}\")\n",
    "print(f\"Description: {description}\")\n",
    "\n",
    "# If you need to perform operations based on the skills, you can do so like this:\n",
    "for skill in skills:\n",
    "    links = collection.query(query_texts=skill, n_results=2).get('metadatas', [])\n",
    "    print(f\"Links for skill '{skill}': {links}\")\n",
    "\n"
   ]
  },
  {
   "cell_type": "code",
   "execution_count": 50,
   "id": "e93a9a4e-3cfa-4865-9484-1d59e7c99d9c",
   "metadata": {},
   "outputs": [
    {
     "name": "stdout",
     "output_type": "stream",
     "text": [
      "Subject: Exploring Opportunities in AI/GenAI and Software Development\n",
      "\n",
      "Dear Hiring Manager,\n",
      "\n",
      "I am excited to introduce myself as a highly motivated and detail-oriented Master's student in Computer Science at Syracuse University, with a strong passion for Artificial Intelligence (AI) and Generative AI (GenAI). As a tech enthusiast with experience as a Software Developer and a Graduate Research Assistant, I am confident in my ability to deliver innovative solutions that drive business growth and empower underserved communities.\n",
      "\n",
      "With a solid foundation in software development, I have honed my skills in programming languages such as Python, Java, and C++. My experience in developing digital literacy workshops has not only deepened my understanding of AI and GenAI but also instilled in me a commitment to creating accessible and inclusive technology. As a researcher, I have analyzed data to identify trends and patterns, which has allowed me to develop data-driven solutions that cater to the needs of diverse populations.\n",
      "\n",
      "Some of my notable projects include:\n",
      "\n",
      "* Zomato Analysis using Power BI: I designed and developed a data visualization dashboard to analyze customer reviews and ratings of restaurants on Zomato, a popular food delivery platform. This project showcased my ability to collect, analyze, and visualize data to extract meaningful insights. (https://github.com/dasaribhumika/Zomato-Analysis-Power-BI)\n",
      "* Digital Literacy Workshops: As a Graduate Research Assistant, I have been involved in developing and conducting digital literacy workshops for underserved communities. These workshops aim to bridge the digital divide by providing individuals with the skills and knowledge necessary to navigate the digital world.\n",
      "\n",
      "In addition to these projects, you can find more information about my work and experiences on my Linktree profile: https://linktr.ee/bhumikadasari\n",
      "\n",
      "I am excited about the prospect of joining an organization that shares my passion for AI, GenAI, and software development. I am confident that my unique blend of technical skills, research experience, and commitment to social impact make me an ideal candidate for a role that involves developing innovative solutions that drive business growth and empower communities.\n",
      "\n",
      "Thank you for considering my application. I would welcome the opportunity to discuss my qualifications further and explore how my skills and experience align with your organization's needs.\n",
      "\n",
      "Best regards,\n",
      "\n",
      "Bhumika Dasari\n"
     ]
    }
   ],
   "source": [
    "prompt_email = PromptTemplate.from_template(\n",
    "        \"\"\"\n",
    "        ### JOB DESCRIPTION:\n",
    "        {job_description}\n",
    "        \n",
    "        ### INSTRUCTION:\n",
    "        You are Bhumika Dasari, a tech enthusiast and Master's student in Computer Science at Syracuse University. \n",
    "        You are passionate about AI/GenAI and have experience as a Software Developer. Currently, you are working as a Graduate Research Assistant, \n",
    "        where you are involved in developing digital literacy workshops and analyzing data to empower underserved communities. \n",
    "        Your goal is to write a cold email to potential clients or employers regarding your interest in opportunities within AI/GenAI and \n",
    "        software development roles. Describe your capabilities and how your skills can fulfill their needs.\n",
    "        Include relevant projects and experiences that showcase your expertise in software development and AI, emphasizing your commitment \n",
    "        to deliver innovative solutions and your enthusiasm for technology.\n",
    "        Also add the most relevant ones from the following links to showcase my portfolio: {link_list}\n",
    "        Remember to maintain a professional tone and highlight your unique contributions as a tech enthusiast.\n",
    "        Do not provide a preamble.\n",
    "        ### EMAIL (NO PREAMBLE):\n",
    "        \n",
    "        \"\"\"\n",
    "        )\n",
    "\n",
    "chain_email = prompt_email | llm\n",
    "res = chain_email.invoke({\"job_description\": str(job), \"link_list\": links})\n",
    "print(res.content)"
   ]
  },
  {
   "cell_type": "code",
   "execution_count": null,
   "id": "368c03d6-d7e5-459f-8607-248292b5da7f",
   "metadata": {},
   "outputs": [],
   "source": []
  },
  {
   "cell_type": "code",
   "execution_count": null,
   "id": "a821b9db-b566-407b-bf8f-1bbe357f579d",
   "metadata": {},
   "outputs": [],
   "source": []
  }
 ],
 "metadata": {
  "kernelspec": {
   "display_name": "Python 3 (ipykernel)",
   "language": "python",
   "name": "python3"
  },
  "language_info": {
   "codemirror_mode": {
    "name": "ipython",
    "version": 3
   },
   "file_extension": ".py",
   "mimetype": "text/x-python",
   "name": "python",
   "nbconvert_exporter": "python",
   "pygments_lexer": "ipython3",
   "version": "3.10.4"
  }
 },
 "nbformat": 4,
 "nbformat_minor": 5
}
